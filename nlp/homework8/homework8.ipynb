{
 "cells": [
  {
   "cell_type": "markdown",
   "metadata": {},
   "source": [
    "# Домашняя работа\n",
    "\n",
    "Данные берем отызывы за лето\n",
    "На вебинаре мы говорили, что долгое время CNN и RNN архитектуры были конурируещими выяснить какая архитектура больше подходит для нашей задачи \n",
    "1. построить свёрточные архитектуры \n",
    "2. построить различные архитектуры с RNN\n",
    "3. построить совместные архитектуры CNN -> RNN или (RNN -> CNN)"
   ]
  },
  {
   "cell_type": "code",
   "execution_count": 1,
   "metadata": {},
   "outputs": [],
   "source": [
    "import numpy as np\n",
    "import pandas as pd"
   ]
  },
  {
   "cell_type": "code",
   "execution_count": 2,
   "metadata": {},
   "outputs": [
    {
     "name": "stdout",
     "output_type": "stream",
     "text": [
      "Requirement already satisfied: xlrd in /opt/homebrew/Caskroom/miniforge/base/envs/nn/lib/python3.10/site-packages (2.0.1)\n"
     ]
    }
   ],
   "source": [
    "!pip3 install xlrd"
   ]
  },
  {
   "cell_type": "code",
   "execution_count": 5,
   "metadata": {},
   "outputs": [],
   "source": [
    "df = pd.read_excel('../homework7/отзывы за лето.xls')"
   ]
  },
  {
   "cell_type": "code",
   "execution_count": 6,
   "metadata": {},
   "outputs": [
    {
     "data": {
      "text/html": [
       "<div>\n",
       "<style scoped>\n",
       "    .dataframe tbody tr th:only-of-type {\n",
       "        vertical-align: middle;\n",
       "    }\n",
       "\n",
       "    .dataframe tbody tr th {\n",
       "        vertical-align: top;\n",
       "    }\n",
       "\n",
       "    .dataframe thead th {\n",
       "        text-align: right;\n",
       "    }\n",
       "</style>\n",
       "<table border=\"1\" class=\"dataframe\">\n",
       "  <thead>\n",
       "    <tr style=\"text-align: right;\">\n",
       "      <th></th>\n",
       "      <th>Rating</th>\n",
       "      <th>Content</th>\n",
       "      <th>Date</th>\n",
       "    </tr>\n",
       "  </thead>\n",
       "  <tbody>\n",
       "    <tr>\n",
       "      <th>0</th>\n",
       "      <td>5</td>\n",
       "      <td>It just works!</td>\n",
       "      <td>2017-08-14</td>\n",
       "    </tr>\n",
       "    <tr>\n",
       "      <th>1</th>\n",
       "      <td>4</td>\n",
       "      <td>В целом удобноное приложение...из минусов хотя...</td>\n",
       "      <td>2017-08-14</td>\n",
       "    </tr>\n",
       "    <tr>\n",
       "      <th>2</th>\n",
       "      <td>5</td>\n",
       "      <td>Отлично все</td>\n",
       "      <td>2017-08-14</td>\n",
       "    </tr>\n",
       "    <tr>\n",
       "      <th>3</th>\n",
       "      <td>5</td>\n",
       "      <td>Стал зависать на 1% работы антивируса. Дальше ...</td>\n",
       "      <td>2017-08-14</td>\n",
       "    </tr>\n",
       "    <tr>\n",
       "      <th>4</th>\n",
       "      <td>5</td>\n",
       "      <td>Очень удобно, работает быстро.</td>\n",
       "      <td>2017-08-14</td>\n",
       "    </tr>\n",
       "    <tr>\n",
       "      <th>5</th>\n",
       "      <td>5</td>\n",
       "      <td>Всё удобно норм 👍👍👍</td>\n",
       "      <td>2017-08-14</td>\n",
       "    </tr>\n",
       "    <tr>\n",
       "      <th>6</th>\n",
       "      <td>5</td>\n",
       "      <td>Очень удобное приложение.</td>\n",
       "      <td>2017-08-14</td>\n",
       "    </tr>\n",
       "    <tr>\n",
       "      <th>7</th>\n",
       "      <td>5</td>\n",
       "      <td>Все устраивает</td>\n",
       "      <td>2017-08-14</td>\n",
       "    </tr>\n",
       "    <tr>\n",
       "      <th>8</th>\n",
       "      <td>5</td>\n",
       "      <td>У меня работает все четко. В отличии от банком...</td>\n",
       "      <td>2017-08-14</td>\n",
       "    </tr>\n",
       "    <tr>\n",
       "      <th>9</th>\n",
       "      <td>5</td>\n",
       "      <td>Очень все хорошо👍</td>\n",
       "      <td>2017-08-14</td>\n",
       "    </tr>\n",
       "    <tr>\n",
       "      <th>10</th>\n",
       "      <td>5</td>\n",
       "      <td>Все ок!</td>\n",
       "      <td>2017-08-14</td>\n",
       "    </tr>\n",
       "    <tr>\n",
       "      <th>11</th>\n",
       "      <td>5</td>\n",
       "      <td>Все нормально, кроме того что уведомление нель...</td>\n",
       "      <td>2017-08-14</td>\n",
       "    </tr>\n",
       "    <tr>\n",
       "      <th>12</th>\n",
       "      <td>2</td>\n",
       "      <td>Не стартует без доступа к gps, sms, звонкам и ...</td>\n",
       "      <td>2017-08-14</td>\n",
       "    </tr>\n",
       "    <tr>\n",
       "      <th>13</th>\n",
       "      <td>5</td>\n",
       "      <td>Очень удобно, работает замечательно, подвисани...</td>\n",
       "      <td>2017-08-14</td>\n",
       "    </tr>\n",
       "    <tr>\n",
       "      <th>14</th>\n",
       "      <td>5</td>\n",
       "      <td>Очень удобно</td>\n",
       "      <td>2017-08-14</td>\n",
       "    </tr>\n",
       "  </tbody>\n",
       "</table>\n",
       "</div>"
      ],
      "text/plain": [
       "    Rating                                            Content        Date\n",
       "0        5                                     It just works!  2017-08-14\n",
       "1        4  В целом удобноное приложение...из минусов хотя...  2017-08-14\n",
       "2        5                                        Отлично все  2017-08-14\n",
       "3        5  Стал зависать на 1% работы антивируса. Дальше ...  2017-08-14\n",
       "4        5                     Очень удобно, работает быстро.  2017-08-14\n",
       "5        5                                Всё удобно норм 👍👍👍  2017-08-14\n",
       "6        5                          Очень удобное приложение.  2017-08-14\n",
       "7        5                                     Все устраивает  2017-08-14\n",
       "8        5  У меня работает все четко. В отличии от банком...  2017-08-14\n",
       "9        5                                  Очень все хорошо👍  2017-08-14\n",
       "10       5                                            Все ок!  2017-08-14\n",
       "11       5  Все нормально, кроме того что уведомление нель...  2017-08-14\n",
       "12       2  Не стартует без доступа к gps, sms, звонкам и ...  2017-08-14\n",
       "13       5  Очень удобно, работает замечательно, подвисани...  2017-08-14\n",
       "14       5                                       Очень удобно  2017-08-14"
      ]
     },
     "execution_count": 6,
     "metadata": {},
     "output_type": "execute_result"
    }
   ],
   "source": [
    "df.head(15)"
   ]
  },
  {
   "cell_type": "code",
   "execution_count": 7,
   "metadata": {},
   "outputs": [
    {
     "data": {
      "text/plain": [
       "5    14586\n",
       "1     2276\n",
       "4     2138\n",
       "3      911\n",
       "2      748\n",
       "Name: Rating, dtype: int64"
      ]
     },
     "execution_count": 7,
     "metadata": {},
     "output_type": "execute_result"
    }
   ],
   "source": [
    "df['Rating'].value_counts()"
   ]
  },
  {
   "cell_type": "code",
   "execution_count": 8,
   "metadata": {},
   "outputs": [
    {
     "data": {
      "text/plain": [
       "(20659, 3)"
      ]
     },
     "execution_count": 8,
     "metadata": {},
     "output_type": "execute_result"
    }
   ],
   "source": [
    "df.shape"
   ]
  },
  {
   "cell_type": "code",
   "execution_count": 9,
   "metadata": {},
   "outputs": [],
   "source": [
    "from nltk.tokenize import word_tokenize\n",
    "from nltk.corpus import stopwords\n",
    "from string import punctuation\n",
    "import pymorphy2\n",
    "import re"
   ]
  },
  {
   "cell_type": "code",
   "execution_count": 10,
   "metadata": {},
   "outputs": [
    {
     "data": {
      "text/plain": [
       "['съесть', 'ещё', 'мягкий', 'французский', 'булка', 'выпить', 'чай']"
      ]
     },
     "execution_count": 10,
     "metadata": {},
     "output_type": "execute_result"
    }
   ],
   "source": [
    "morph = pymorphy2.MorphAnalyzer()\n",
    "stopwords_list = stopwords.words('russian')\n",
    "punct = set(punctuation)\n",
    "\n",
    "def tokenize_and_preprocess(text):\n",
    "    if type(text) is not str:\n",
    "        return []\n",
    "    # txt = \"\".join(c for c in text if c not in punct)\n",
    "    txt = text\n",
    "    txt = txt.lower()\n",
    "    txt = re.sub(\"\\sне\", \"не\", txt)\n",
    "    words = word_tokenize(txt)\n",
    "    lemmas = [morph.parse(w)[0].normal_form for w in words]\n",
    "    return [w for w in lemmas if not w in stopwords_list and w.isalpha()]\n",
    "\n",
    "tokenize_and_preprocess('Съешь еще этих мягких французских булок, да выпей же чаю!')"
   ]
  },
  {
   "cell_type": "code",
   "execution_count": 11,
   "metadata": {},
   "outputs": [
    {
     "data": {
      "text/html": [
       "<div>\n",
       "<style scoped>\n",
       "    .dataframe tbody tr th:only-of-type {\n",
       "        vertical-align: middle;\n",
       "    }\n",
       "\n",
       "    .dataframe tbody tr th {\n",
       "        vertical-align: top;\n",
       "    }\n",
       "\n",
       "    .dataframe thead th {\n",
       "        text-align: right;\n",
       "    }\n",
       "</style>\n",
       "<table border=\"1\" class=\"dataframe\">\n",
       "  <thead>\n",
       "    <tr style=\"text-align: right;\">\n",
       "      <th></th>\n",
       "      <th>Rating</th>\n",
       "      <th>Content</th>\n",
       "      <th>Date</th>\n",
       "      <th>Prepared_Content</th>\n",
       "    </tr>\n",
       "  </thead>\n",
       "  <tbody>\n",
       "    <tr>\n",
       "      <th>0</th>\n",
       "      <td>5</td>\n",
       "      <td>It just works!</td>\n",
       "      <td>2017-08-14</td>\n",
       "      <td>[it, just, works]</td>\n",
       "    </tr>\n",
       "    <tr>\n",
       "      <th>1</th>\n",
       "      <td>4</td>\n",
       "      <td>В целом удобноное приложение...из минусов хотя...</td>\n",
       "      <td>2017-08-14</td>\n",
       "      <td>[целое, удобноной, приложение, минус, хотеть, ...</td>\n",
       "    </tr>\n",
       "    <tr>\n",
       "      <th>2</th>\n",
       "      <td>5</td>\n",
       "      <td>Отлично все</td>\n",
       "      <td>2017-08-14</td>\n",
       "      <td>[отлично, всё]</td>\n",
       "    </tr>\n",
       "    <tr>\n",
       "      <th>3</th>\n",
       "      <td>5</td>\n",
       "      <td>Стал зависать на 1% работы антивируса. Дальше ...</td>\n",
       "      <td>2017-08-14</td>\n",
       "      <td>[стать, зависать, работа, антивирус, далёкий, ...</td>\n",
       "    </tr>\n",
       "    <tr>\n",
       "      <th>4</th>\n",
       "      <td>5</td>\n",
       "      <td>Очень удобно, работает быстро.</td>\n",
       "      <td>2017-08-14</td>\n",
       "      <td>[очень, удобно, работать, быстро]</td>\n",
       "    </tr>\n",
       "  </tbody>\n",
       "</table>\n",
       "</div>"
      ],
      "text/plain": [
       "   Rating                                            Content        Date  \\\n",
       "0       5                                     It just works!  2017-08-14   \n",
       "1       4  В целом удобноное приложение...из минусов хотя...  2017-08-14   \n",
       "2       5                                        Отлично все  2017-08-14   \n",
       "3       5  Стал зависать на 1% работы антивируса. Дальше ...  2017-08-14   \n",
       "4       5                     Очень удобно, работает быстро.  2017-08-14   \n",
       "\n",
       "                                    Prepared_Content  \n",
       "0                                  [it, just, works]  \n",
       "1  [целое, удобноной, приложение, минус, хотеть, ...  \n",
       "2                                     [отлично, всё]  \n",
       "3  [стать, зависать, работа, антивирус, далёкий, ...  \n",
       "4                  [очень, удобно, работать, быстро]  "
      ]
     },
     "execution_count": 11,
     "metadata": {},
     "output_type": "execute_result"
    }
   ],
   "source": [
    "df['Prepared_Content'] = df['Content'].apply(tokenize_and_preprocess)\n",
    "df.head(5)"
   ]
  },
  {
   "cell_type": "code",
   "execution_count": 12,
   "metadata": {},
   "outputs": [],
   "source": [
    "from sklearn.model_selection import train_test_split"
   ]
  },
  {
   "cell_type": "code",
   "execution_count": 13,
   "metadata": {},
   "outputs": [],
   "source": [
    "df_train, df_val = train_test_split(df, test_size=0.25, shuffle=True)"
   ]
  },
  {
   "cell_type": "code",
   "execution_count": 14,
   "metadata": {},
   "outputs": [],
   "source": [
    "corpus_tokens = []\n",
    "for i in range(len(df_train)):\n",
    "    corpus_tokens += df_train[\"Prepared_Content\"].iloc[i]"
   ]
  },
  {
   "cell_type": "code",
   "execution_count": 15,
   "metadata": {},
   "outputs": [],
   "source": [
    "num_classes = 5\n",
    "max_words = 5000\n",
    "max_len = 40"
   ]
  },
  {
   "cell_type": "markdown",
   "metadata": {},
   "source": [
    "__Создание словаря__"
   ]
  },
  {
   "cell_type": "code",
   "execution_count": 16,
   "metadata": {},
   "outputs": [],
   "source": [
    "from nltk.probability import FreqDist\n",
    "dist = FreqDist(corpus_tokens)\n",
    "tokens_filtered_top = [pair[0] for pair in dist.most_common(max_words-1)]"
   ]
  },
  {
   "cell_type": "code",
   "execution_count": 17,
   "metadata": {},
   "outputs": [
    {
     "data": {
      "text/plain": [
       "['приложение',\n",
       " 'всё',\n",
       " 'очень',\n",
       " 'удобно',\n",
       " 'работать',\n",
       " 'удобный',\n",
       " 'отлично',\n",
       " 'спасибо',\n",
       " 'хороший',\n",
       " 'нравиться']"
      ]
     },
     "execution_count": 17,
     "metadata": {},
     "output_type": "execute_result"
    }
   ],
   "source": [
    "tokens_filtered_top[:10]"
   ]
  },
  {
   "cell_type": "code",
   "execution_count": 18,
   "metadata": {},
   "outputs": [],
   "source": [
    "vocabulary = {v: k for k, v in dict(enumerate(tokens_filtered_top, 1)).items()}"
   ]
  },
  {
   "cell_type": "code",
   "execution_count": 20,
   "metadata": {},
   "outputs": [],
   "source": [
    "def text_to_sequence(tokens, maxlen):\n",
    "    result = []\n",
    "    for word in tokens:\n",
    "        if word in vocabulary:\n",
    "            result.append(vocabulary[word])\n",
    "    padding = [0] * (maxlen-len(result))\n",
    "    return padding + result[-maxlen:]"
   ]
  },
  {
   "cell_type": "code",
   "execution_count": 21,
   "metadata": {},
   "outputs": [],
   "source": [
    "X_train = np.asarray([text_to_sequence(text, max_len) for text in df_train[\"Prepared_Content\"]], dtype=np.int32)\n",
    "X_val = np.asarray([text_to_sequence(text, max_len) for text in df_val[\"Prepared_Content\"]], dtype=np.int32)"
   ]
  },
  {
   "cell_type": "code",
   "execution_count": 22,
   "metadata": {},
   "outputs": [],
   "source": [
    "from sklearn import preprocessing\n",
    "import tensorflow as tf\n",
    "from tensorflow import keras"
   ]
  },
  {
   "cell_type": "code",
   "execution_count": 23,
   "metadata": {},
   "outputs": [],
   "source": [
    "label_encoder = preprocessing.LabelEncoder()\n",
    "y_train = label_encoder.fit_transform(df_train['Rating'])\n",
    "y_val = label_encoder.fit_transform(df_val['Rating'])"
   ]
  },
  {
   "cell_type": "code",
   "execution_count": 24,
   "metadata": {},
   "outputs": [],
   "source": [
    "y_train = keras.utils.to_categorical(y_train, num_classes)\n",
    "y_val = keras.utils.to_categorical(y_val, num_classes)"
   ]
  },
  {
   "cell_type": "code",
   "execution_count": 25,
   "metadata": {},
   "outputs": [],
   "source": [
    "epochs = 20\n",
    "batch_size = 512\n",
    "print_batch_n = 100"
   ]
  },
  {
   "cell_type": "code",
   "execution_count": 35,
   "metadata": {},
   "outputs": [],
   "source": [
    "def compile_train_classifier(model, epochs=20):\n",
    "    model.compile(loss='categorical_crossentropy',\n",
    "                  optimizer='adam',\n",
    "                  metrics=['accuracy'])\n",
    "    return model.fit(X_train, y_train,\n",
    "                     batch_size=batch_size,\n",
    "                     epochs=epochs,\n",
    "                     verbose=1,\n",
    "                     validation_data=(X_val, y_val))"
   ]
  },
  {
   "cell_type": "markdown",
   "metadata": {},
   "source": [
    "## Рекуррентная сеть\n",
    "\n",
    "Так как у меня LSTM почему-то не работает на GPU (долго вычисляется), буду обучать только одну эпоху"
   ]
  },
  {
   "cell_type": "code",
   "execution_count": 36,
   "metadata": {},
   "outputs": [
    {
     "name": "stdout",
     "output_type": "stream",
     "text": [
      "WARNING:tensorflow:Layer lstm_1 will not use cuDNN kernels since it doesn't meet the criteria. It will use a generic GPU kernel as fallback when running on GPU.\n"
     ]
    },
    {
     "name": "stderr",
     "output_type": "stream",
     "text": [
      "2022-08-31 20:38:50.272601: I tensorflow/core/grappler/optimizers/custom_graph_optimizer_registry.cc:113] Plugin optimizer for device_type GPU is enabled.\n"
     ]
    },
    {
     "name": "stdout",
     "output_type": "stream",
     "text": [
      "31/31 [==============================] - ETA: 0s - loss: 1.3992 - accuracy: 0.6819"
     ]
    },
    {
     "name": "stderr",
     "output_type": "stream",
     "text": [
      "2022-08-31 20:40:46.470959: I tensorflow/core/grappler/optimizers/custom_graph_optimizer_registry.cc:113] Plugin optimizer for device_type GPU is enabled.\n"
     ]
    },
    {
     "name": "stdout",
     "output_type": "stream",
     "text": [
      "31/31 [==============================] - 120s 4s/step - loss: 1.3992 - accuracy: 0.6819 - val_loss: 0.9883 - val_accuracy: 0.7113\n"
     ]
    },
    {
     "data": {
      "text/plain": [
       "<keras.callbacks.History at 0x30dea3310>"
      ]
     },
     "execution_count": 36,
     "metadata": {},
     "output_type": "execute_result"
    }
   ],
   "source": [
    "model_rnn = keras.models.Sequential([\n",
    "    keras.layers.Embedding(\n",
    "        input_dim=max_words, output_dim=128,\n",
    "        input_length=max_len, mask_zero=True),\n",
    "    keras.layers.LSTM(80, recurrent_dropout=0.2),\n",
    "    keras.layers.Dense(25, activation='relu'),\n",
    "    keras.layers.Dropout(0.2),\n",
    "    keras.layers.Activation(\"relu\"),\n",
    "    keras.layers.Dense(num_classes),\n",
    "    keras.layers.Activation('softmax'),\n",
    "])\n",
    "compile_train_classifier(model_rnn, epochs=1)"
   ]
  },
  {
   "cell_type": "markdown",
   "metadata": {},
   "source": [
    "## Сверточная сеть"
   ]
  },
  {
   "cell_type": "code",
   "execution_count": 37,
   "metadata": {},
   "outputs": [
    {
     "name": "stdout",
     "output_type": "stream",
     "text": [
      "Epoch 1/20\n"
     ]
    },
    {
     "name": "stderr",
     "output_type": "stream",
     "text": [
      "2022-08-31 20:41:12.845774: I tensorflow/core/grappler/optimizers/custom_graph_optimizer_registry.cc:113] Plugin optimizer for device_type GPU is enabled.\n"
     ]
    },
    {
     "name": "stdout",
     "output_type": "stream",
     "text": [
      "31/31 [==============================] - 5s 134ms/step - loss: 1.0653 - accuracy: 0.7045 - val_loss: 0.8411 - val_accuracy: 0.7195\n",
      "Epoch 2/20\n"
     ]
    },
    {
     "name": "stderr",
     "output_type": "stream",
     "text": [
      "2022-08-31 20:41:17.091223: I tensorflow/core/grappler/optimizers/custom_graph_optimizer_registry.cc:113] Plugin optimizer for device_type GPU is enabled.\n"
     ]
    },
    {
     "name": "stdout",
     "output_type": "stream",
     "text": [
      "31/31 [==============================] - 3s 108ms/step - loss: 0.7494 - accuracy: 0.7504 - val_loss: 0.6510 - val_accuracy: 0.7741\n",
      "Epoch 3/20\n",
      "31/31 [==============================] - 3s 105ms/step - loss: 0.6271 - accuracy: 0.7815 - val_loss: 0.6170 - val_accuracy: 0.7835\n",
      "Epoch 4/20\n",
      "31/31 [==============================] - 4s 119ms/step - loss: 0.5698 - accuracy: 0.8000 - val_loss: 0.6106 - val_accuracy: 0.7868\n",
      "Epoch 5/20\n",
      "31/31 [==============================] - 4s 120ms/step - loss: 0.5201 - accuracy: 0.8192 - val_loss: 0.6076 - val_accuracy: 0.7905\n",
      "Epoch 6/20\n",
      "31/31 [==============================] - 3s 106ms/step - loss: 0.4732 - accuracy: 0.8385 - val_loss: 0.6165 - val_accuracy: 0.7886\n",
      "Epoch 7/20\n",
      "31/31 [==============================] - 3s 108ms/step - loss: 0.4275 - accuracy: 0.8595 - val_loss: 0.6382 - val_accuracy: 0.7833\n",
      "Epoch 8/20\n",
      "31/31 [==============================] - 4s 122ms/step - loss: 0.3828 - accuracy: 0.8767 - val_loss: 0.6608 - val_accuracy: 0.7839\n",
      "Epoch 9/20\n",
      "31/31 [==============================] - 3s 102ms/step - loss: 0.3393 - accuracy: 0.8949 - val_loss: 0.6931 - val_accuracy: 0.7742\n",
      "Epoch 10/20\n",
      "31/31 [==============================] - 3s 101ms/step - loss: 0.3013 - accuracy: 0.9127 - val_loss: 0.7317 - val_accuracy: 0.7702\n",
      "Epoch 11/20\n",
      "31/31 [==============================] - 3s 102ms/step - loss: 0.2698 - accuracy: 0.9238 - val_loss: 0.7840 - val_accuracy: 0.7764\n",
      "Epoch 12/20\n",
      "31/31 [==============================] - 4s 120ms/step - loss: 0.2449 - accuracy: 0.9310 - val_loss: 0.8296 - val_accuracy: 0.7665\n",
      "Epoch 13/20\n",
      "31/31 [==============================] - 3s 106ms/step - loss: 0.2239 - accuracy: 0.9377 - val_loss: 0.8777 - val_accuracy: 0.7682\n",
      "Epoch 14/20\n",
      "31/31 [==============================] - 3s 104ms/step - loss: 0.2058 - accuracy: 0.9428 - val_loss: 0.9103 - val_accuracy: 0.7607\n",
      "Epoch 15/20\n",
      "31/31 [==============================] - 3s 104ms/step - loss: 0.1934 - accuracy: 0.9457 - val_loss: 0.9586 - val_accuracy: 0.7584\n",
      "Epoch 16/20\n",
      "31/31 [==============================] - 3s 101ms/step - loss: 0.1840 - accuracy: 0.9468 - val_loss: 1.0020 - val_accuracy: 0.7524\n",
      "Epoch 17/20\n",
      "31/31 [==============================] - 3s 103ms/step - loss: 0.1739 - accuracy: 0.9508 - val_loss: 1.0551 - val_accuracy: 0.7590\n",
      "Epoch 18/20\n",
      "31/31 [==============================] - 3s 100ms/step - loss: 0.1677 - accuracy: 0.9524 - val_loss: 1.0799 - val_accuracy: 0.7533\n",
      "Epoch 19/20\n",
      "31/31 [==============================] - 3s 100ms/step - loss: 0.1611 - accuracy: 0.9529 - val_loss: 1.1157 - val_accuracy: 0.7512\n",
      "Epoch 20/20\n",
      "31/31 [==============================] - 3s 99ms/step - loss: 0.1567 - accuracy: 0.9553 - val_loss: 1.1519 - val_accuracy: 0.7524\n"
     ]
    },
    {
     "data": {
      "text/plain": [
       "<keras.callbacks.History at 0x2f41b87c0>"
      ]
     },
     "execution_count": 37,
     "metadata": {},
     "output_type": "execute_result"
    }
   ],
   "source": [
    "model_conv = keras.models.Sequential([\n",
    "    keras.layers.Embedding(\n",
    "        input_dim=max_words, output_dim=128,\n",
    "        input_length=max_len, mask_zero=True),\n",
    "    keras.layers.Conv1D(128, 7),\n",
    "    keras.layers.Activation(\"relu\"),\n",
    "    keras.layers.GlobalMaxPool1D(),\n",
    "    keras.layers.Dense(25),\n",
    "    keras.layers.Activation(\"relu\"),\n",
    "    keras.layers.Dense(num_classes),\n",
    "    keras.layers.Activation('softmax'),\n",
    "])\n",
    "compile_train_classifier(model_conv)"
   ]
  },
  {
   "cell_type": "markdown",
   "metadata": {},
   "source": [
    "## LSTM + CNN"
   ]
  },
  {
   "cell_type": "code",
   "execution_count": 45,
   "metadata": {},
   "outputs": [
    {
     "name": "stdout",
     "output_type": "stream",
     "text": [
      "WARNING:tensorflow:Layer lstm_3 will not use cuDNN kernels since it doesn't meet the criteria. It will use a generic GPU kernel as fallback when running on GPU.\n"
     ]
    },
    {
     "name": "stderr",
     "output_type": "stream",
     "text": [
      "2022-08-31 20:51:30.182550: I tensorflow/core/grappler/optimizers/custom_graph_optimizer_registry.cc:113] Plugin optimizer for device_type GPU is enabled.\n"
     ]
    },
    {
     "name": "stdout",
     "output_type": "stream",
     "text": [
      "31/31 [==============================] - ETA: 0s - loss: 1.4322 - accuracy: 0.6837"
     ]
    },
    {
     "name": "stderr",
     "output_type": "stream",
     "text": [
      "2022-08-31 20:53:40.879703: I tensorflow/core/grappler/optimizers/custom_graph_optimizer_registry.cc:113] Plugin optimizer for device_type GPU is enabled.\n"
     ]
    },
    {
     "name": "stdout",
     "output_type": "stream",
     "text": [
      "31/31 [==============================] - 135s 4s/step - loss: 1.4322 - accuracy: 0.6837 - val_loss: 1.0970 - val_accuracy: 0.7121\n"
     ]
    },
    {
     "data": {
      "text/plain": [
       "<keras.callbacks.History at 0x3597f36a0>"
      ]
     },
     "execution_count": 45,
     "metadata": {},
     "output_type": "execute_result"
    }
   ],
   "source": [
    "model_rnn_cnn = keras.models.Sequential([\n",
    "    keras.layers.Embedding(\n",
    "        input_dim=max_words, output_dim=128,\n",
    "        input_length=max_len, mask_zero=True),\n",
    "    keras.layers.LSTM(80, recurrent_dropout=0.2),\n",
    "    keras.layers.Reshape((80, 1)),\n",
    "    keras.layers.Conv1D(128, 7),\n",
    "    keras.layers.Activation(\"relu\"),\n",
    "    keras.layers.GlobalMaxPool1D(),\n",
    "    keras.layers.Dense(25, activation='relu'),\n",
    "    keras.layers.Dropout(0.2),\n",
    "    keras.layers.Activation(\"relu\"),\n",
    "    keras.layers.Dense(num_classes),\n",
    "    keras.layers.Activation('softmax'),\n",
    "])\n",
    "compile_train_classifier(model_rnn_cnn, epochs=1)"
   ]
  },
  {
   "cell_type": "markdown",
   "metadata": {},
   "source": [
    "## Тестирование"
   ]
  },
  {
   "cell_type": "code",
   "execution_count": 38,
   "metadata": {},
   "outputs": [
    {
     "name": "stderr",
     "output_type": "stream",
     "text": [
      "2022-08-31 20:42:20.954620: I tensorflow/core/grappler/optimizers/custom_graph_optimizer_registry.cc:113] Plugin optimizer for device_type GPU is enabled.\n"
     ]
    },
    {
     "name": "stdout",
     "output_type": "stream",
     "text": [
      "⭐ Говно тупое Удаляю!\n",
      "⭐⭐ Говно.\n",
      "⭐⭐⭐⭐⭐ Отличное приложение! Все супер!\n",
      "⭐⭐⭐⭐ Ну нормально, но у меня холодьник от антивируса сломался\n"
     ]
    }
   ],
   "source": [
    "def repeat_str(text, n):\n",
    "    ret = ''\n",
    "    for i in range(n):\n",
    "        ret += text\n",
    "    return ret\n",
    "\n",
    "\n",
    "def predict(text):\n",
    "    rating = np.argmax(\n",
    "        model_conv.predict(\n",
    "            np.array([\n",
    "                text_to_sequence(tokenize_and_preprocess(text), max_len)\n",
    "            ]), verbose=0\n",
    "        )\n",
    "    ) + 1\n",
    "    return rating\n",
    "\n",
    "\n",
    "def predict_print(text):\n",
    "    rating = predict(text)\n",
    "    print(repeat_str('⭐', rating) + ' ' + text)\n",
    "\n",
    "\n",
    "predict_print('Говно тупое Удаляю!')\n",
    "predict_print('Говно.')\n",
    "predict_print('Отличное приложение! Все супер!')\n",
    "predict_print('Ну нормально, но у меня холодьник от антивируса сломался')"
   ]
  }
 ],
 "metadata": {
  "interpreter": {
   "hash": "3af7e179898fb99d78969cca94508015726394a06defd0be323cbf435423c41d"
  },
  "kernelspec": {
   "display_name": "Python 3.10.4 64-bit ('nn': conda)",
   "name": "python3"
  },
  "language_info": {
   "codemirror_mode": {
    "name": "ipython",
    "version": 3
   },
   "file_extension": ".py",
   "mimetype": "text/x-python",
   "name": "python",
   "nbconvert_exporter": "python",
   "pygments_lexer": "ipython3",
   "version": "3.10.4"
  },
  "orig_nbformat": 4
 },
 "nbformat": 4,
 "nbformat_minor": 2
}
